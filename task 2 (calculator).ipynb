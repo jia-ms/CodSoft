{
 "cells": [
  {
   "cell_type": "code",
   "execution_count": 3,
   "id": "ec212a29",
   "metadata": {
    "scrolled": true
   },
   "outputs": [
    {
     "name": "stdout",
     "output_type": "stream",
     "text": [
      "1 - Add\n",
      "2 - Subtract\n",
      "3 - Multiply\n",
      "4 - Divide\n",
      "choose an operation: 2\n",
      "enter first number:33\n",
      "enter the second number:66\n",
      "the result of the operation is -33\n"
     ]
    }
   ],
   "source": [
    "print(\"1 - Add\")\n",
    "print(\"2 - Subtract\")\n",
    "print(\"3 - Multiply\")\n",
    "print(\"4 - Divide\")\n",
    "option = int(input(\"choose an operation: \"))\n",
    "if(option in [1,2,3,4]):\n",
    "    num1=int(input(\"enter first number:\"))\n",
    "    num2=int(input(\"enter the second number:\"))\n",
    "    if(option==1):\n",
    "        result=num1+num2\n",
    "    elif(option==2):\n",
    "        result=num1-num2\n",
    "    elif(option==3):\n",
    "        result=num1*num2\n",
    "    elif(option==4):\n",
    "        result=num1//num2\n",
    "else:\n",
    "    print(\"invalid operation entered\")\n",
    "print(\"the result of the operation is {}\".format(result))"
   ]
  },
  {
   "cell_type": "code",
   "execution_count": null,
   "id": "2ef15feb",
   "metadata": {},
   "outputs": [],
   "source": []
  },
  {
   "cell_type": "code",
   "execution_count": null,
   "id": "85384a31",
   "metadata": {},
   "outputs": [],
   "source": []
  }
 ],
 "metadata": {
  "kernelspec": {
   "display_name": "Python 3",
   "language": "python",
   "name": "python3"
  },
  "language_info": {
   "codemirror_mode": {
    "name": "ipython",
    "version": 3
   },
   "file_extension": ".py",
   "mimetype": "text/x-python",
   "name": "python",
   "nbconvert_exporter": "python",
   "pygments_lexer": "ipython3",
   "version": "3.8.8"
  }
 },
 "nbformat": 4,
 "nbformat_minor": 5
}
